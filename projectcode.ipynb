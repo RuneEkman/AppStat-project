{
 "cells": [
  {
   "cell_type": "markdown",
   "metadata": {},
   "source": [
    "# AppStat project\n",
    "Rune Ekman (njf458)\n"
   ]
  },
  {
   "cell_type": "code",
   "execution_count": 78,
   "metadata": {},
   "outputs": [],
   "source": [
    "import matplotlib.pyplot as plt\n",
    "import numpy as np\n",
    "import scipy.stats as stats\n",
    "\n",
    "from iminuit import Minuit\n",
    "from iminuit.cost import LeastSquares\n"
   ]
  },
  {
   "cell_type": "markdown",
   "metadata": {},
   "source": [
    "## Pendulum"
   ]
  },
  {
   "cell_type": "markdown",
   "metadata": {},
   "source": [
    "Should we do the data processing for the laser and the tape measure separately? Troels said that it was quite hard to make them agree."
   ]
  },
  {
   "cell_type": "markdown",
   "metadata": {},
   "source": [
    "## Lengths"
   ]
  },
  {
   "cell_type": "code",
   "execution_count": 79,
   "metadata": {},
   "outputs": [],
   "source": [
    "# Laser measurements from ceiling to floor  in meters\n",
    "L_laser_s = [18.76, 18.76, 18.757, 18.759, 18.758, 18.758, 18.762, 18.758, 18.76, 18.758]\n",
    "L_laser_s_toweight = [18.374, 18.378]\n",
    "L_laser_m = [18.769, 18.764, 18.764, 18.763, 18.769, 18.759, 18.76, 18.758, 18.759, 18.759]\n",
    "L_laser_r = [18.747, 18.749,18.780,18.774,18.790,18.784,18.771,18.780]\n",
    "L_laser_a = [18.776,18.775,18.770,18.775,18.767,18.770]  \n",
    "\n",
    "# Measured [to the top of weigth, to the bottom of the weigth] in meters\n",
    "L_tape_s = [18.384, 18.416]\n",
    "L_tape_m = [18.385, 18.415]\n",
    "L_tape_r = [18.382, 18.419]\n",
    "L_tape_a = [18.387, 18.416]\n",
    "\n",
    "#From floor to weight in meters\n",
    "floor_to_weight_r = [0.345, 0.345]\n",
    "floor_to_weight_a = [0.346, 0.347, 0.347]\n",
    "floor_to_weight = [0.345, 0.345,0.346, 0.347, 0.347]\n",
    "\n",
    "#Hook deviation on the tape measure, in mm.\n",
    "tape_hook_s = [3, 2.95, 3, 3]\n",
    "\n",
    "#Lets put it together in a matrix\n",
    "laser_measurements = [L_laser_s, L_laser_m, L_laser_r, L_laser_a]\n",
    "tape_measurements = [L_tape_s, L_tape_m, L_tape_r, L_tape_a]\n"
   ]
  },
  {
   "cell_type": "code",
   "execution_count": 80,
   "metadata": {},
   "outputs": [
    {
     "name": "stdout",
     "output_type": "stream",
     "text": [
      "Lengths (Avg) of Søren, manon, rune, andreas 18.759 18.762400000000003 18.771875 18.772166666666667\n",
      "stds, same order  0.0014142135623735673 0.003903844259187956 0.014810785765785876 0.0033374973990832556\n",
      "Weighted average for each person, to the bottom 18.76121809716788 +- 0.0012309605230866052\n",
      "Distance to COM, as given by laser 18.39560904858394 +- 0.001113021092499934\n"
     ]
    }
   ],
   "source": [
    "#Averages, laser\n",
    "#Søren\n",
    "sørenl = np.mean(L_laser_s)\n",
    "sørenlsig = np.std(L_laser_s)#/np.sqrt(len(L_laser_s))\n",
    "#Manon\n",
    "manonl = np.mean(L_laser_m)\n",
    "manonlsig = np.std(L_laser_m)#/np.sqrt(len(L_laser_m))\n",
    "#Rune\n",
    "runel = np.mean(L_laser_r)\n",
    "runelsig = np.std(L_laser_r)#/np.sqrt(len(L_laser_r))\n",
    "#Andreas\n",
    "andreasl = np.mean(L_laser_a)\n",
    "andreaslsig = np.std(L_laser_a)#/np.sqrt(len(L_laser_a))\n",
    "\n",
    "combinedl = np.array([sørenl,manonl,runel,andreasl])\n",
    "combinedlsig = np.array([sørenlsig, manonlsig, runelsig, andreaslsig])\n",
    "\n",
    "print(\"Lengths (Avg) of Søren, manon, rune, andreas\",sørenl, manonl, runel, andreasl)\n",
    "print(\"stds, same order \",sørenlsig, manonlsig, runelsig, andreaslsig)\n",
    "\n",
    "\n",
    "#Calculating weighted average of all the lengths to the floor\n",
    "weights = 1/combinedlsig**2\n",
    "avglengthtobottom = np.sum(combinedl*weights)/np.sum(weights)\n",
    "unctobottom = np.sqrt(1/np.sum(weights))\n",
    "print(\"Weighted average for each person, to the bottom\",avglengthtobottom, \"+-\", unctobottom)\n",
    "\n",
    "#Calculating distance to COM\n",
    "floortow = np.mean(floor_to_weight)\n",
    "floortow_unc = np.std(floor_to_weight)/np.sqrt(len(floor_to_weight))\n",
    "\n",
    "ceilingtow = np.mean(L_laser_s_toweight)\n",
    "ceilingtow_unc = np.std(L_laser_s_toweight)/np.sqrt(len(L_laser_s_toweight))\n",
    "\n",
    "#Distance to COM (weighted) using laser\n",
    "L_laser = avglengthtobottom - floortow - (avglengthtobottom - floortow - ceilingtow)/2\n",
    "L_laser_unc = np.sqrt((1/4)*unctobottom**2 + (3/2)**2 *floortow_unc**2 + (1/4)*ceilingtow_unc**2)\n",
    "\n",
    "print(\"Distance to COM, as given by laser\",L_laser,\"+-\", L_laser_unc)\n"
   ]
  },
  {
   "cell_type": "code",
   "execution_count": 81,
   "metadata": {},
   "outputs": [
    {
     "name": "stdout",
     "output_type": "stream",
     "text": [
      "18.3874875 0.0009013878188658673\n"
     ]
    }
   ],
   "source": [
    "#Now with tape measure\n",
    "L_tape_array = np.array([\n",
    "    L_tape_s[1]-(L_tape_s[1]-L_tape_s[0]),\n",
    "    L_tape_m[1]-(L_tape_m[1]-L_tape_m[0]),\n",
    "    L_tape_r[1]-(L_tape_r[1]-L_tape_r[0]),\n",
    "    L_tape_a[1]-(L_tape_a[1]-L_tape_a[0])\n",
    "]) +0.001*np.mean(tape_hook_s)\n",
    "\n",
    "L_tape = np.mean(L_tape_array)\n",
    "L_tape_unc = np.std(L_tape_array)/2\n",
    "print(L_tape, L_tape_unc)"
   ]
  },
  {
   "cell_type": "markdown",
   "metadata": {},
   "source": [
    "## Timing"
   ]
  },
  {
   "cell_type": "code",
   "execution_count": 82,
   "metadata": {
    "tags": []
   },
   "outputs": [],
   "source": [
    "#Data reader\n",
    "def read_data(filename):\n",
    "    data_p = np.genfromtxt(filename, delimiter='\\t', names=('n', 't_s'))\n",
    "    return data_p"
   ]
  },
  {
   "cell_type": "code",
   "execution_count": 83,
   "metadata": {
    "tags": []
   },
   "outputs": [],
   "source": [
    "#Defining our data, first for the period\n",
    "testfile1 = \"rune3.dat\" #These files should include ONLY the counts and the times.\n",
    "testfile2 = \"data_Bob_pendulum14m_25measurements.dat\"\n",
    "\n",
    "testdata1 = read_data(testfile1) #loads the first file\n",
    "n1,t1 = testdata1[\"n\"], testdata1[\"t_s\"] #Defines my two arrays from the data\n",
    "sigt1 = 0.1 #Our uncertainty in elapsed time.\n",
    "\n",
    "testdata2 = read_data(testfile2)\n",
    "n2,t2 = testdata2[\"n\"], testdata2[\"t_s\"]\n",
    "sigt2=0.1\n",
    "\n",
    "# Length data\n",
    "#write up some array of the measurements we have made for the length"
   ]
  },
  {
   "cell_type": "code",
   "execution_count": 95,
   "metadata": {
    "tags": []
   },
   "outputs": [],
   "source": [
    "#Defining straight line function to be used in fitting\n",
    "def line(x,a,b):\n",
    "    y= a*x+b\n",
    "    return y\n",
    "\n",
    "#Defining chi2 function for line:\n",
    "def chi2_owncalc_line(a,b) :\n",
    "    y_fit = line(n1,a,b) #observe that we in this function input our data (n1 and t1)!!\n",
    "    chi2 = np.sum(((t1 - y_fit) / sigt1)**2)\n",
    "    return chi2"
   ]
  },
  {
   "cell_type": "code",
   "execution_count": 96,
   "metadata": {
    "tags": []
   },
   "outputs": [
    {
     "name": "stdout",
     "output_type": "stream",
     "text": [
      "Fit value: a = 4.29940 +/- 0.00167\n",
      "Fit value: b = 38.61696 +/- 0.03454\n",
      "Chi2 value: 143.4   Ndof = 33    Prob(Chi2,Ndof) = 0.000\n"
     ]
    }
   ],
   "source": [
    "#Performing the actual fit\n",
    "m = Minuit(chi2_owncalc_line,a=7, b=80)\n",
    "m.errordef = 1.0     # This is the definition for ChiSquare fits\n",
    "m.migrad();           # This is where the minimisation is carried out! Put \";\" at the end to void output\n",
    "\n",
    "if (not m.fmin.is_valid) :\n",
    "    print(\"  WARNING: The ChiSquare fit DID NOT converge!!! \")    \n",
    "\n",
    "# Loop to get both parameter values and uncertainties:\n",
    "for name in m.parameters :\n",
    "    value, error = m.values[name], m.errors[name]\n",
    "    print(f\"Fit value: {name} = {value:.5f} +/- {error:.5f}\")\n",
    "\n",
    "# Get Chi2 value:\n",
    "chi2_value_line = m.fval            # The value minimised, i.e. Chi2 or -2*LogLikeliHood (LLH) value\n",
    "\n",
    "# Get number of degrees-of-freedom (Ndof):\n",
    "Ndof_value_line = len(n1) - m.nfit\n",
    "\n",
    "Prob_value = stats.chi2.sf(chi2_value_line, Ndof_value_line) # The chi2 probability given N_DOF degrees of freedom\n",
    "\n",
    "print(f\"Chi2 value: {chi2_value_line:.1f}   Ndof = {Ndof_value_line:.0f}    Prob(Chi2,Ndof) = {Prob_value:5.3f}\")"
   ]
  },
  {
   "cell_type": "code",
   "execution_count": 97,
   "metadata": {},
   "outputs": [
    {
     "data": {
      "text/plain": [
       "'0.000'"
      ]
     },
     "execution_count": 97,
     "metadata": {},
     "output_type": "execute_result"
    }
   ],
   "source": [
    "f\"{Prob_value:5.3f}\""
   ]
  },
  {
   "cell_type": "code",
   "execution_count": 98,
   "metadata": {
    "tags": []
   },
   "outputs": [
    {
     "data": {
      "text/plain": [
       "Text(0, 0.5, 'Residuals')"
      ]
     },
     "execution_count": 98,
     "metadata": {},
     "output_type": "execute_result"
    },
    {
     "data": {
      "image/png": "[encoded data removed]",
      "text/plain": [
       "<Figure size 1200x800 with 2 Axes>"
      ]
     },
     "metadata": {},
     "output_type": "display_data"
    }
   ],
   "source": [
    "# Plotting\n",
    "fig, ax = plt.subplots(nrows=2, ncols=1, figsize=(12,8), gridspec_kw={'height_ratios':[4,1]}, sharex=True)\n",
    "ax[0].errorbar(n1, t1, yerr=sigt1, color='k', fmt='o', label=\"Data\")\n",
    "ax[0].set_xlabel('Timing measurement number', fontsize=18)\n",
    "ax[0].set_ylabel('Time elapsed (s)', fontsize=18)\n",
    "ax[0].set(xlim=(0, n1[-1]+np.ediff1d(n1)[0]), ylim=(0, t1[-1]+np.ediff1d(t1)[0]))\n",
    "#Enter the fit\n",
    "ax[0].plot(n1, line(n1, *m.values), label=\"Fit\")\n",
    "\n",
    "fit_info = [\n",
    "    f\"$\\\\chi^2$/$n_\\\\mathrm{{dof}}$ = {m.fval:.1f} / {Ndof_value_line:.0f} = {m.fval/Ndof_value_line:.1f}\",\n",
    "]\n",
    "for p, v, e in zip(m.parameters, m.values, m.errors):\n",
    "    fit_info.append(f\"{p} = ${v:.3f} \\\\pm {e:.3f}$\")\n",
    "\n",
    "ax[0].legend(title=\"\\n\".join(fit_info), frameon=False)\n",
    "\n",
    "\n",
    "#Create residual plot\n",
    "residual = line(n1,m.values[0], m.values[1]) - t1\n",
    "ax[1].scatter(n1,residual, color=\"k\")\n",
    "ax[1].axhline(y=0, linestyle=\"dashed\", color=\"red\")\n",
    "ax[1].set_ylabel(\"Residuals\", fontsize=18)"
   ]
  },
  {
   "cell_type": "markdown",
   "metadata": {},
   "source": [
    "## Gaussian errors?\n",
    "Below, we will look at a histogram of the residuals to determine whether our errors are Gaussian. If Gaussian, the standard deviation should give the typical uncertainty.\n",
    "No matter if it is Gaussian or not, it should be centered around zero! Otherwise something is wrong in our experimental method.\n",
    "\n",
    "We must be careful when fitting to a histogram though, due to the binning. We need to make sure that no bins are empty, and we need to fit to the bin centers.\n",
    "When we have fitted, we will have some typical uncertainty. We can use this to redo our linefit (this will, by construction, make it a \"good\" fit in terms of chi square. We argue that this is valid as we are sure in the linear relationship. If the data shows some non-linearity, or we were somehow unsure about the relation between x and y, then this method is of course flawed!)"
   ]
  },
  {
   "cell_type": "code",
   "execution_count": 88,
   "metadata": {
    "tags": []
   },
   "outputs": [
    {
     "name": "stdout",
     "output_type": "stream",
     "text": [
      "  WARNING: The ChiSquare fit DID NOT converge!!! \n",
      "Fit value: A = 6220.93667 +/- 13913.41270\n",
      "Fit value: mu = -46.04646 +/- 3.70930\n",
      "Fit value: sigma = 15.36604 +/- 3.30988\n",
      "Chi2 value: 6.2   Ndof = 4    Prob(Chi2,Ndof) = 0.186\n"
     ]
    },
    {
     "data": {
      "text/plain": [
       "<matplotlib.legend.Legend at 0x2138e986dc0>"
      ]
     },
     "execution_count": 88,
     "metadata": {},
     "output_type": "execute_result"
    },
    {
     "data": {
      "image/png": "[encoded data removed]",
      "text/plain": [
       "<Figure size 1000x600 with 1 Axes>"
      ]
     },
     "metadata": {},
     "output_type": "display_data"
    }
   ],
   "source": [
    "fig, ax = plt.subplots(figsize=(10, 6))\n",
    "\n",
    "xmin=-0.2\n",
    "xmax=0.2\n",
    "Nbins = 14\n",
    "counts, bin_edges = np.histogram(residual, bins=Nbins, range=(xmin,xmax))\n",
    "x = (bin_edges[1:] + bin_edges[:-1])/2\n",
    "y = counts\n",
    "\n",
    "# Making sure non-zero bins\n",
    "x = (bin_edges[1:][counts>0] + bin_edges[:-1][counts>0])/2\n",
    "y = counts[counts>0]\n",
    "sy=np.sqrt(y)\n",
    "\n",
    "\n",
    "#Plotting histogram\n",
    "hist = ax.hist(residual, bins=Nbins, histtype='step', linewidth=2, color='red', label='Residuals')\n",
    "\n",
    "#Creating Gaussian fit\n",
    "#First defining the Gauss function\n",
    "def gauss_pdf(val,A,mu,sigma):\n",
    "    return A*stats.norm.pdf(val,mu,sigma)\n",
    "\n",
    "\n",
    "# Defining Chi2 calculation:\n",
    "def chi2_owncalc(A, mu, sigma) :\n",
    "    y_fit = gauss_pdf(x, A, mu, sigma)\n",
    "    chi2 = np.sum(((y - y_fit) / sy)**2)\n",
    "    return chi2\n",
    "\n",
    "#Performing the actual fit\n",
    "minuit_chi2 = Minuit(chi2_owncalc,A=5, mu=0, sigma=0.05)\n",
    "minuit_chi2.errordef = 1.0     # This is the definition for ChiSqaure fits\n",
    "minuit_chi2.migrad();           # This is where the minimisation is carried out! Put \";\" at the end to void output\n",
    "\n",
    "if (not minuit_chi2.fmin.is_valid) :\n",
    "    print(\"  WARNING: The ChiSquare fit DID NOT converge!!! \")    \n",
    "\n",
    "# Loop to get both parameter values and uncertainties:\n",
    "for name in minuit_chi2.parameters :\n",
    "    value, error = minuit_chi2.values[name], minuit_chi2.errors[name]\n",
    "    print(f\"Fit value: {name} = {value:.5f} +/- {error:.5f}\")\n",
    "\n",
    "# Get Chi2 value:\n",
    "chi2_value = minuit_chi2.fval            # The value minimised, i.e. Chi2 or -2*LogLikeliHood (LLH) value\n",
    "\n",
    "# Get number of degrees-of-freedom (Ndof):\n",
    "N_NotEmptyBin = np.sum(y > 0)\n",
    "Ndof_value = N_NotEmptyBin - minuit_chi2.nfit\n",
    "\n",
    "Prob_value = stats.chi2.sf(chi2_value, Ndof_value) # The chi2 probability given N_DOF degrees of freedom\n",
    "print(f\"Chi2 value: {chi2_value:.1f}   Ndof = {Ndof_value:.0f}    Prob(Chi2,Ndof) = {Prob_value:5.3f}\")\n",
    "\n",
    "x_axis = np.linspace(xmin, xmax, 1000)\n",
    "ax.plot(x_axis, gauss_pdf(x_axis, *minuit_chi2.values[:]), '-r', label='Chi2 fit model result') \n",
    "ax.legend()\n",
    "\n"
   ]
  },
  {
   "cell_type": "markdown",
   "metadata": {},
   "source": [
    "The datacount is low here, and as such the fit is mediocre at best.\n",
    "When putting in our own data, we should make sure to get enough data points!"
   ]
  },
  {
   "cell_type": "markdown",
   "metadata": {},
   "source": [
    "We should now be able to redo the linear fit, this time using the sigma from the residual Gauss fit as the uncertainty on the datapoints. See previous text. "
   ]
  },
  {
   "cell_type": "code",
   "execution_count": 89,
   "metadata": {
    "tags": []
   },
   "outputs": [],
   "source": [
    "def g(T, L, sig_T, sig_L):\n",
    "    \n",
    "    \n",
    "    g=L*(2*np.pi/T)**2\n",
    "    sig_g=np.sqrt((2*np.pi/T)**4 * sig_L**2 + ((2*L*(2*np.pi)**2)/T**3)**2 * sig_T**2)\n",
    "    \n",
    "    return g, sig_g\n",
    " \n"
   ]
  },
  {
   "cell_type": "markdown",
   "metadata": {},
   "source": []
  },
  {
   "cell_type": "markdown",
   "metadata": {},
   "source": []
  }
 ],
 "metadata": {
  "kernelspec": {
   "display_name": "Python 3 (ipykernel)",
   "language": "python",
   "name": "python3"
  },
  "language_info": {
   "codemirror_mode": {
    "name": "ipython",
    "version": 3
   },
   "file_extension": ".py",
   "mimetype": "text/x-python",
   "name": "python",
   "nbconvert_exporter": "python",
   "pygments_lexer": "ipython3",
   "version": "3.11.5"
  }
 },
 "nbformat": 4,
 "nbformat_minor": 4
}
