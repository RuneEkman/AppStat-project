{
 "cells": [
  {
   "cell_type": "code",
   "execution_count": 139,
   "id": "62e2cd06",
   "metadata": {},
   "outputs": [],
   "source": [
    "import numpy as np\n",
    "import matplotlib.pyplot as plt\n",
    "from scipy.optimize import curve_fit"
   ]
  },
  {
   "cell_type": "code",
   "execution_count": 140,
   "id": "89cac8a8",
   "metadata": {},
   "outputs": [],
   "source": [
    "andreas_test = np.loadtxt('andreastest.dat')\n",
    "manon_test = np.loadtxt('manontest.dat')\n",
    "rune_test = np.loadtxt('runetest.dat')\n",
    "søren_test = np.loadtxt('sørentest.dat')\n",
    "\n",
    "andreas_test = andreas_test[:,1] - andreas_test[0,1]\n",
    "manon_test = manon_test[:,1] - manon_test[0,1]\n",
    "rune_test = rune_test[:,1] - rune_test[0,1]\n",
    "søren_test = søren_test[:,1] - søren_test[0,1]\n",
    "søren_test = søren_test[0:11]"
   ]
  },
  {
   "cell_type": "code",
   "execution_count": 141,
   "id": "c642489a",
   "metadata": {},
   "outputs": [],
   "source": [
    "times = np.linspace(0,30,11)"
   ]
  },
  {
   "cell_type": "code",
   "execution_count": 161,
   "id": "529f4208",
   "metadata": {},
   "outputs": [],
   "source": [
    "andreas_unc = np.mean(andreas_test - times)\n",
    "manon_unc = np.mean(manon_test - times)\n",
    "rune_unc = np.mean(rune_test - times)\n",
    "søren_unc = np.mean(søren_test - times)"
   ]
  },
  {
   "cell_type": "code",
   "execution_count": 164,
   "id": "5a1b8f09",
   "metadata": {},
   "outputs": [
    {
     "name": "stdout",
     "output_type": "stream",
     "text": [
      "Andreas' uncertainty is  0.2543999999999988\n",
      "Manon's uncertainty is  0.12168181818181897\n",
      "Rune's uncertainty is  0.13660000000000008\n",
      "Søren's uncertainty is  0.07769090909091082\n"
     ]
    }
   ],
   "source": [
    "print(\"Andreas' uncertainty is \", andreas_unc)\n",
    "print(\"Manon's uncertainty is \", manon_unc)\n",
    "print(\"Rune's uncertainty is \", rune_unc)\n",
    "print(\"Søren's uncertainty is \", søren_unc)"
   ]
  },
  {
   "cell_type": "code",
   "execution_count": 167,
   "id": "64eb5c0c",
   "metadata": {},
   "outputs": [],
   "source": [
    "andreas_unc_unc = np.sqrt(np.sum(andreas_test-times-andreas_unc)**2/9)\n",
    "manon_unc_unc = np.sqrt(np.sum(manon_test-times-manon_unc)**2/9)\n",
    "rune_unc_unc = np.sqrt(np.sum(rune_test-times-rune_unc)**2/9)\n",
    "søren_unc_unc = np.sqrt(np.sum(søren_test-times-søren_unc)**2/9)\n",
    "\n",
    "print(\"The uncertainties on the uncertainties are v. small; respectively: %f, %f, \")"
   ]
  },
  {
   "cell_type": "code",
   "execution_count": null,
   "id": "f9dd4cf6",
   "metadata": {},
   "outputs": [],
   "source": []
  },
  {
   "cell_type": "code",
   "execution_count": null,
   "id": "520aa2af",
   "metadata": {},
   "outputs": [],
   "source": []
  },
  {
   "cell_type": "code",
   "execution_count": null,
   "id": "0189dc6f",
   "metadata": {},
   "outputs": [],
   "source": []
  },
  {
   "cell_type": "code",
   "execution_count": null,
   "id": "98328004",
   "metadata": {},
   "outputs": [],
   "source": []
  }
 ],
 "metadata": {
  "kernelspec": {
   "display_name": "Python 3",
   "language": "python",
   "name": "python3"
  },
  "language_info": {
   "codemirror_mode": {
    "name": "ipython",
    "version": 3
   },
   "file_extension": ".py",
   "mimetype": "text/x-python",
   "name": "python",
   "nbconvert_exporter": "python",
   "pygments_lexer": "ipython3",
   "version": "3.8.8"
  }
 },
 "nbformat": 4,
 "nbformat_minor": 5
}
